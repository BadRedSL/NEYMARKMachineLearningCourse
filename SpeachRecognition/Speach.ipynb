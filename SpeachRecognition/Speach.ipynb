{
 "cells": [
  {
   "cell_type": "code",
   "execution_count": 1,
   "metadata": {},
   "outputs": [
    {
     "name": "stdout",
     "output_type": "stream",
     "text": [
      "Requirement already satisfied: librosa in c:\\users\\alex\\anaconda3\\lib\\site-packages (0.9.2)\n",
      "Requirement already satisfied: numpy>=1.17.0 in c:\\users\\alex\\anaconda3\\lib\\site-packages (from librosa) (1.20.0)\n",
      "Requirement already satisfied: resampy>=0.2.2 in c:\\users\\alex\\anaconda3\\lib\\site-packages (from librosa) (0.4.2)\n",
      "Requirement already satisfied: soundfile>=0.10.2 in c:\\users\\alex\\anaconda3\\lib\\site-packages (from librosa) (0.12.1)\n",
      "Requirement already satisfied: scikit-learn>=0.19.1 in c:\\users\\alex\\anaconda3\\lib\\site-packages (from librosa) (1.0.2)\n",
      "Requirement already satisfied: numba>=0.45.1 in c:\\users\\alex\\anaconda3\\lib\\site-packages (from librosa) (0.55.1)\n",
      "Requirement already satisfied: joblib>=0.14 in c:\\users\\alex\\anaconda3\\lib\\site-packages (from librosa) (1.1.0)\n",
      "Requirement already satisfied: pooch>=1.0 in c:\\users\\alex\\anaconda3\\lib\\site-packages (from librosa) (1.7.0)\n",
      "Requirement already satisfied: decorator>=4.0.10 in c:\\users\\alex\\appdata\\roaming\\python\\python39\\site-packages (from librosa) (5.1.1)\n",
      "Requirement already satisfied: packaging>=20.0 in c:\\users\\alex\\appdata\\roaming\\python\\python39\\site-packages (from librosa) (23.0)\n",
      "Requirement already satisfied: audioread>=2.1.9 in c:\\users\\alex\\anaconda3\\lib\\site-packages (from librosa) (3.0.0)\n",
      "Requirement already satisfied: scipy>=1.2.0 in c:\\users\\alex\\anaconda3\\lib\\site-packages (from librosa) (1.9.1)\n",
      "Requirement already satisfied: setuptools in c:\\users\\alex\\anaconda3\\lib\\site-packages (from numba>=0.45.1->librosa) (59.5.0)\n",
      "Requirement already satisfied: llvmlite<0.39,>=0.38.0rc1 in c:\\users\\alex\\anaconda3\\lib\\site-packages (from numba>=0.45.1->librosa) (0.38.0)\n",
      "Requirement already satisfied: platformdirs>=2.5.0 in c:\\users\\alex\\appdata\\roaming\\python\\python39\\site-packages (from pooch>=1.0->librosa) (3.1.0)\n",
      "Requirement already satisfied: requests>=2.19.0 in c:\\users\\alex\\anaconda3\\lib\\site-packages (from pooch>=1.0->librosa) (2.28.1)\n",
      "Requirement already satisfied: threadpoolctl>=2.0.0 in c:\\users\\alex\\anaconda3\\lib\\site-packages (from scikit-learn>=0.19.1->librosa) (2.2.0)\n",
      "Requirement already satisfied: cffi>=1.0 in c:\\users\\alex\\anaconda3\\lib\\site-packages (from soundfile>=0.10.2->librosa) (1.15.1)\n",
      "Requirement already satisfied: pycparser in c:\\users\\alex\\anaconda3\\lib\\site-packages (from cffi>=1.0->soundfile>=0.10.2->librosa) (2.21)\n",
      "Requirement already satisfied: urllib3<1.27,>=1.21.1 in c:\\users\\alex\\anaconda3\\lib\\site-packages (from requests>=2.19.0->pooch>=1.0->librosa) (1.26.11)\n",
      "Requirement already satisfied: idna<4,>=2.5 in c:\\users\\alex\\anaconda3\\lib\\site-packages (from requests>=2.19.0->pooch>=1.0->librosa) (3.3)\n",
      "Requirement already satisfied: certifi>=2017.4.17 in c:\\users\\alex\\anaconda3\\lib\\site-packages (from requests>=2.19.0->pooch>=1.0->librosa) (2022.9.14)\n",
      "Requirement already satisfied: charset-normalizer<3,>=2 in c:\\users\\alex\\anaconda3\\lib\\site-packages (from requests>=2.19.0->pooch>=1.0->librosa) (2.0.4)\n",
      "Note: you may need to restart the kernel to use updated packages.\n"
     ]
    }
   ],
   "source": [
    "%pip install librosa"
   ]
  },
  {
   "cell_type": "code",
   "execution_count": 2,
   "metadata": {},
   "outputs": [
    {
     "name": "stdout",
     "output_type": "stream",
     "text": [
      "Requirement already satisfied: audiomentations in c:\\users\\alex\\anaconda3\\lib\\site-packages (0.28.0)\n",
      "Requirement already satisfied: scipy<2,>=1.0.0 in c:\\users\\alex\\anaconda3\\lib\\site-packages (from audiomentations) (1.9.1)\n",
      "Requirement already satisfied: librosa<0.10.0,>0.7.2 in c:\\users\\alex\\anaconda3\\lib\\site-packages (from audiomentations) (0.9.2)\n",
      "Requirement already satisfied: numpy>=1.13.0 in c:\\users\\alex\\anaconda3\\lib\\site-packages (from audiomentations) (1.20.0)\n",
      "Requirement already satisfied: scikit-learn>=0.19.1 in c:\\users\\alex\\anaconda3\\lib\\site-packages (from librosa<0.10.0,>0.7.2->audiomentations) (1.0.2)\n",
      "Requirement already satisfied: decorator>=4.0.10 in c:\\users\\alex\\appdata\\roaming\\python\\python39\\site-packages (from librosa<0.10.0,>0.7.2->audiomentations) (5.1.1)\n",
      "Requirement already satisfied: joblib>=0.14 in c:\\users\\alex\\anaconda3\\lib\\site-packages (from librosa<0.10.0,>0.7.2->audiomentations) (1.1.0)\n",
      "Requirement already satisfied: packaging>=20.0 in c:\\users\\alex\\appdata\\roaming\\python\\python39\\site-packages (from librosa<0.10.0,>0.7.2->audiomentations) (23.0)\n",
      "Requirement already satisfied: resampy>=0.2.2 in c:\\users\\alex\\anaconda3\\lib\\site-packages (from librosa<0.10.0,>0.7.2->audiomentations) (0.4.2)\n",
      "Requirement already satisfied: soundfile>=0.10.2 in c:\\users\\alex\\anaconda3\\lib\\site-packages (from librosa<0.10.0,>0.7.2->audiomentations) (0.12.1)\n",
      "Requirement already satisfied: audioread>=2.1.9 in c:\\users\\alex\\anaconda3\\lib\\site-packages (from librosa<0.10.0,>0.7.2->audiomentations) (3.0.0)\n",
      "Requirement already satisfied: numba>=0.45.1 in c:\\users\\alex\\anaconda3\\lib\\site-packages (from librosa<0.10.0,>0.7.2->audiomentations) (0.55.1)\n",
      "Requirement already satisfied: pooch>=1.0 in c:\\users\\alex\\anaconda3\\lib\\site-packages (from librosa<0.10.0,>0.7.2->audiomentations) (1.7.0)\n",
      "Requirement already satisfied: setuptools in c:\\users\\alex\\anaconda3\\lib\\site-packages (from numba>=0.45.1->librosa<0.10.0,>0.7.2->audiomentations) (59.5.0)\n",
      "Requirement already satisfied: llvmlite<0.39,>=0.38.0rc1 in c:\\users\\alex\\anaconda3\\lib\\site-packages (from numba>=0.45.1->librosa<0.10.0,>0.7.2->audiomentations) (0.38.0)\n",
      "Requirement already satisfied: platformdirs>=2.5.0 in c:\\users\\alex\\appdata\\roaming\\python\\python39\\site-packages (from pooch>=1.0->librosa<0.10.0,>0.7.2->audiomentations) (3.1.0)\n",
      "Requirement already satisfied: requests>=2.19.0 in c:\\users\\alex\\anaconda3\\lib\\site-packages (from pooch>=1.0->librosa<0.10.0,>0.7.2->audiomentations) (2.28.1)\n",
      "Requirement already satisfied: threadpoolctl>=2.0.0 in c:\\users\\alex\\anaconda3\\lib\\site-packages (from scikit-learn>=0.19.1->librosa<0.10.0,>0.7.2->audiomentations) (2.2.0)\n",
      "Requirement already satisfied: cffi>=1.0 in c:\\users\\alex\\anaconda3\\lib\\site-packages (from soundfile>=0.10.2->librosa<0.10.0,>0.7.2->audiomentations) (1.15.1)\n",
      "Requirement already satisfied: pycparser in c:\\users\\alex\\anaconda3\\lib\\site-packages (from cffi>=1.0->soundfile>=0.10.2->librosa<0.10.0,>0.7.2->audiomentations) (2.21)\n",
      "Requirement already satisfied: idna<4,>=2.5 in c:\\users\\alex\\anaconda3\\lib\\site-packages (from requests>=2.19.0->pooch>=1.0->librosa<0.10.0,>0.7.2->audiomentations) (3.3)\n",
      "Requirement already satisfied: urllib3<1.27,>=1.21.1 in c:\\users\\alex\\anaconda3\\lib\\site-packages (from requests>=2.19.0->pooch>=1.0->librosa<0.10.0,>0.7.2->audiomentations) (1.26.11)\n",
      "Requirement already satisfied: charset-normalizer<3,>=2 in c:\\users\\alex\\anaconda3\\lib\\site-packages (from requests>=2.19.0->pooch>=1.0->librosa<0.10.0,>0.7.2->audiomentations) (2.0.4)\n",
      "Requirement already satisfied: certifi>=2017.4.17 in c:\\users\\alex\\anaconda3\\lib\\site-packages (from requests>=2.19.0->pooch>=1.0->librosa<0.10.0,>0.7.2->audiomentations) (2022.9.14)\n",
      "Note: you may need to restart the kernel to use updated packages.\n"
     ]
    }
   ],
   "source": [
    "%pip install audiomentations"
   ]
  },
  {
   "cell_type": "code",
   "execution_count": 3,
   "metadata": {},
   "outputs": [
    {
     "name": "stdout",
     "output_type": "stream",
     "text": [
      "Requirement already satisfied: numba in c:\\users\\alex\\anaconda3\\lib\\site-packages (0.55.1)\n",
      "Collecting numba\n",
      "  Using cached numba-0.56.4-cp39-cp39-win_amd64.whl (2.5 MB)\n",
      "Requirement already satisfied: numpy<1.24,>=1.18 in c:\\users\\alex\\anaconda3\\lib\\site-packages (from numba) (1.20.0)\n",
      "Requirement already satisfied: setuptools in c:\\users\\alex\\anaconda3\\lib\\site-packages (from numba) (59.5.0)\n",
      "Collecting llvmlite<0.40,>=0.39.0dev0\n",
      "  Using cached llvmlite-0.39.1-cp39-cp39-win_amd64.whl (23.2 MB)\n",
      "Installing collected packages: llvmlite, numba\n",
      "  Attempting uninstall: llvmlite\n",
      "    Found existing installation: llvmlite 0.38.0\n",
      "Note: you may need to restart the kernel to use updated packages.\n"
     ]
    },
    {
     "name": "stderr",
     "output_type": "stream",
     "text": [
      "ERROR: Cannot uninstall 'llvmlite'. It is a distutils installed project and thus we cannot accurately determine which files belong to it which would lead to only a partial uninstall.\n"
     ]
    }
   ],
   "source": [
    "%pip install numba --upgrade"
   ]
  },
  {
   "cell_type": "code",
   "execution_count": 4,
   "metadata": {},
   "outputs": [
    {
     "name": "stdout",
     "output_type": "stream",
     "text": [
      "Requirement already satisfied: numpy==1.20 in c:\\users\\alex\\anaconda3\\lib\\site-packages (1.20.0)Note: you may need to restart the kernel to use updated packages.\n",
      "\n"
     ]
    }
   ],
   "source": [
    "%pip install numpy==1.20"
   ]
  },
  {
   "cell_type": "code",
   "execution_count": 5,
   "metadata": {},
   "outputs": [
    {
     "name": "stdout",
     "output_type": "stream",
     "text": [
      "Collecting nemo_toolkit[all]\n",
      "  Using cached nemo_toolkit-1.15.0-py3-none-any.whl (4.0 MB)\n",
      "Requirement already satisfied: python-dateutil in c:\\users\\alex\\anaconda3\\lib\\site-packages (from nemo_toolkit[all]) (2.8.2)\n",
      "Requirement already satisfied: scikit-learn in c:\\users\\alex\\anaconda3\\lib\\site-packages (from nemo_toolkit[all]) (1.0.2)\n",
      "Requirement already satisfied: tensorboard in c:\\users\\alex\\anaconda3\\lib\\site-packages (from nemo_toolkit[all]) (2.11.2)\n",
      "Collecting onnx>=1.7.0\n",
      "  Using cached onnx-1.13.1-cp39-cp39-win_amd64.whl (12.2 MB)\n",
      "Requirement already satisfied: setuptools==59.5.0 in c:\\users\\alex\\anaconda3\\lib\\site-packages (from nemo_toolkit[all]) (59.5.0)\n",
      "Requirement already satisfied: ruamel.yaml in c:\\users\\alex\\anaconda3\\lib\\site-packages (from nemo_toolkit[all]) (0.17.21)\n",
      "Requirement already satisfied: text-unidecode in c:\\users\\alex\\anaconda3\\lib\\site-packages (from nemo_toolkit[all]) (1.3)\n",
      "Requirement already satisfied: wget in c:\\users\\alex\\anaconda3\\lib\\site-packages (from nemo_toolkit[all]) (3.2)\n",
      "Requirement already satisfied: numba in c:\\users\\alex\\anaconda3\\lib\\site-packages (from nemo_toolkit[all]) (0.55.1)\n",
      "Requirement already satisfied: huggingface-hub in c:\\users\\alex\\anaconda3\\lib\\site-packages (from nemo_toolkit[all]) (0.12.1)\n",
      "Requirement already satisfied: wrapt in c:\\users\\alex\\anaconda3\\lib\\site-packages (from nemo_toolkit[all]) (1.14.1)\n",
      "Collecting numpy>=1.22\n",
      "  Using cached numpy-1.24.2-cp39-cp39-win_amd64.whl (14.9 MB)\n",
      "Requirement already satisfied: torch in c:\\users\\alex\\anaconda3\\lib\\site-packages (from nemo_toolkit[all]) (1.13.1)\n",
      "Requirement already satisfied: tqdm>=4.41.0 in c:\\users\\alex\\anaconda3\\lib\\site-packages (from nemo_toolkit[all]) (4.64.1)\n",
      "Requirement already satisfied: librosa in c:\\users\\alex\\anaconda3\\lib\\site-packages (from nemo_toolkit[all]) (0.9.2)\n",
      "Requirement already satisfied: nltk in c:\\users\\alex\\anaconda3\\lib\\site-packages (from nemo_toolkit[all]) (3.7)\n",
      "Requirement already satisfied: soundfile in c:\\users\\alex\\anaconda3\\lib\\site-packages (from nemo_toolkit[all]) (0.12.1)\n",
      "Requirement already satisfied: ijson in c:\\users\\alex\\anaconda3\\lib\\site-packages (from nemo_toolkit[all]) (3.2.0.post0)\n",
      "Requirement already satisfied: ipywidgets in c:\\users\\alex\\anaconda3\\lib\\site-packages (from nemo_toolkit[all]) (7.6.5)\n",
      "Collecting sphinxcontrib-bibtex\n",
      "  Using cached sphinxcontrib_bibtex-2.5.0-py3-none-any.whl (39 kB)\n",
      "Requirement already satisfied: h5py in c:\\users\\alex\\anaconda3\\lib\\site-packages (from nemo_toolkit[all]) (3.7.0)\n",
      "Collecting isort[requirements]<5\n",
      "  Using cached isort-4.3.21-py2.py3-none-any.whl (42 kB)\n",
      "Collecting editdistance\n",
      "  Using cached editdistance-0.6.2-cp39-cp39-win_amd64.whl (22 kB)\n",
      "Collecting einops\n",
      "  Using cached einops-0.6.0-py3-none-any.whl (41 kB)\n",
      "Collecting jiwer\n",
      "  Using cached jiwer-2.5.1-py3-none-any.whl (15 kB)\n",
      "Requirement already satisfied: matplotlib in c:\\users\\alex\\anaconda3\\lib\\site-packages (from nemo_toolkit[all]) (3.5.2)\n",
      "Collecting black==19.10b0\n",
      "  Using cached black-19.10b0-py36-none-any.whl (97 kB)\n",
      "Requirement already satisfied: jieba in c:\\users\\alex\\anaconda3\\lib\\site-packages (from nemo_toolkit[all]) (0.42.1)\n",
      "Collecting sentence-transformers\n",
      "  Using cached sentence_transformers-2.2.2-py3-none-any.whl\n",
      "Requirement already satisfied: parameterized in c:\\users\\alex\\anaconda3\\lib\\site-packages (from nemo_toolkit[all]) (0.8.1)\n",
      "Requirement already satisfied: pydub in c:\\users\\alex\\anaconda3\\lib\\site-packages (from nemo_toolkit[all]) (0.25.1)\n",
      "Collecting gradio==3.4.0\n",
      "  Using cached gradio-3.4.0-py3-none-any.whl (5.3 MB)\n",
      "Collecting inflect\n",
      "  Using cached inflect-6.0.2-py3-none-any.whl (34 kB)\n",
      "Requirement already satisfied: opencc in c:\\users\\alex\\anaconda3\\lib\\site-packages (from nemo_toolkit[all]) (1.1.1)\n",
      "Collecting pytorch-lightning<=1.8.6,>=1.8.3\n",
      "  Using cached pytorch_lightning-1.8.6-py3-none-any.whl (800 kB)\n",
      "Collecting sacremoses>=0.0.43\n",
      "  Using cached sacremoses-0.0.53-py3-none-any.whl\n",
      "Collecting sox\n",
      "  Using cached sox-1.4.1-py2.py3-none-any.whl (39 kB)\n",
      "Collecting pyannote.core\n",
      "  Using cached pyannote.core-5.0.0-py3-none-any.whl (58 kB)\n",
      "Collecting g2p-en\n",
      "  Using cached g2p_en-2.1.0-py3-none-any.whl (3.1 MB)\n",
      "Requirement already satisfied: pandas in c:\\users\\alex\\anaconda3\\lib\\site-packages (from nemo_toolkit[all]) (1.4.4)\n",
      "Collecting youtokentome>=1.0.5\n",
      "  Using cached youtokentome-1.0.6-cp39-cp39-win_amd64.whl\n",
      "Collecting ftfy\n",
      "  Using cached ftfy-6.1.1-py3-none-any.whl (53 kB)\n",
      "Requirement already satisfied: packaging in c:\\users\\alex\\appdata\\roaming\\python\\python39\\site-packages (from nemo_toolkit[all]) (23.0)\n",
      "Requirement already satisfied: progress>=1.5 in c:\\users\\alex\\anaconda3\\lib\\site-packages (from nemo_toolkit[all]) (1.6)\n",
      "Collecting gdown\n",
      "  Using cached gdown-4.6.4-py3-none-any.whl (14 kB)\n",
      "Requirement already satisfied: boto3 in c:\\users\\alex\\anaconda3\\lib\\site-packages (from nemo_toolkit[all]) (1.24.28)\n",
      "Collecting omegaconf<2.3,>=2.2\n",
      "  Using cached omegaconf-2.2.3-py3-none-any.whl (79 kB)\n",
      "Requirement already satisfied: pytest in c:\\users\\alex\\anaconda3\\lib\\site-packages (from nemo_toolkit[all]) (7.1.2)\n",
      "Requirement already satisfied: marshmallow in c:\\users\\alex\\anaconda3\\lib\\site-packages (from nemo_toolkit[all]) (3.19.0)\n",
      "Collecting attrdict\n",
      "  Using cached attrdict-2.0.1-py2.py3-none-any.whl (9.9 kB)\n",
      "Collecting kaldi-python-io\n",
      "  Using cached kaldi_python_io-1.2.2-py3-none-any.whl\n",
      "Collecting transformers<=4.21.2,>=4.0.1\n",
      "  Using cached transformers-4.21.2-py3-none-any.whl (4.7 MB)\n",
      "Collecting torchmetrics>=0.11.0\n",
      "  Using cached torchmetrics-0.11.3-py3-none-any.whl (518 kB)\n",
      "Requirement already satisfied: pyyaml<6 in c:\\users\\alex\\anaconda3\\lib\\site-packages (from nemo_toolkit[all]) (5.4.1)\n",
      "Collecting wandb\n",
      "  Using cached wandb-0.13.10-py3-none-any.whl (2.0 MB)\n",
      "Requirement already satisfied: regex in c:\\users\\alex\\anaconda3\\lib\\site-packages (from nemo_toolkit[all]) (2022.7.9)\n",
      "Collecting webdataset<=0.1.62,>=0.1.48\n",
      "  Using cached webdataset-0.1.62-py3-none-any.whl (32 kB)\n",
      "Collecting fasttext\n",
      "  Using cached fasttext-0.9.2-cp39-cp39-win_amd64.whl\n",
      "Requirement already satisfied: tabulate>=0.8.7 in c:\\users\\alex\\anaconda3\\lib\\site-packages (from nemo_toolkit[all]) (0.8.10)\n",
      "Requirement already satisfied: pytest-runner in c:\\users\\alex\\anaconda3\\lib\\site-packages (from nemo_toolkit[all]) (6.0.0)\n",
      "Collecting kaldiio\n",
      "  Using cached kaldiio-2.17.2-py3-none-any.whl\n",
      "Requirement already satisfied: braceexpand in c:\\users\\alex\\anaconda3\\lib\\site-packages (from nemo_toolkit[all]) (0.1.7)\n",
      "Collecting pyannote.metrics\n",
      "  Using cached pyannote.metrics-3.2.1-py3-none-any.whl (51 kB)\n",
      "Requirement already satisfied: faiss-cpu in c:\\users\\alex\\anaconda3\\lib\\site-packages (from nemo_toolkit[all]) (1.7.3)\n",
      "Collecting pypinyin-dict\n",
      "  Using cached pypinyin_dict-0.5.0-py2.py3-none-any.whl (9.5 MB)\n",
      "Collecting flask-restful\n",
      "  Using cached Flask_RESTful-0.3.9-py2.py3-none-any.whl (25 kB)\n",
      "Collecting texterrors\n",
      "  Using cached texterrors-0.4.4-cp39-cp39-win_amd64.whl\n",
      "Requirement already satisfied: sentencepiece<1.0.0 in c:\\users\\alex\\anaconda3\\lib\\site-packages (from nemo_toolkit[all]) (0.1.97)\n",
      "Requirement already satisfied: scipy>=0.14 in c:\\users\\alex\\anaconda3\\lib\\site-packages (from nemo_toolkit[all]) (1.9.1)\n",
      "Collecting hydra-core<1.3,>=1.2.0\n",
      "  Using cached hydra_core-1.2.0-py3-none-any.whl (151 kB)\n",
      "Collecting sacrebleu[ja]\n",
      "  Using cached sacrebleu-2.3.1-py3-none-any.whl (118 kB)\n",
      "Requirement already satisfied: sphinx in c:\\users\\alex\\anaconda3\\lib\\site-packages (from nemo_toolkit[all]) (5.0.2)\n",
      "Requirement already satisfied: textdistance>=4.1.5 in c:\\users\\alex\\anaconda3\\lib\\site-packages (from nemo_toolkit[all]) (4.2.1)\n",
      "Requirement already satisfied: rapidfuzz in c:\\users\\alex\\anaconda3\\lib\\site-packages (from nemo_toolkit[all]) (2.13.7)\n",
      "Requirement already satisfied: pangu in c:\\users\\alex\\anaconda3\\lib\\site-packages (from nemo_toolkit[all]) (4.0.6.1)\n",
      "Requirement already satisfied: pypinyin in c:\\users\\alex\\anaconda3\\lib\\site-packages (from nemo_toolkit[all]) (0.48.0)\n",
      "Collecting click==8.0.2\n",
      "  Using cached click-8.0.2-py3-none-any.whl (97 kB)\n",
      "Requirement already satisfied: attrs>=18.1.0 in c:\\users\\alex\\anaconda3\\lib\\site-packages (from black==19.10b0->nemo_toolkit[all]) (21.4.0)\n",
      "Requirement already satisfied: pathspec<1,>=0.6 in c:\\users\\alex\\anaconda3\\lib\\site-packages (from black==19.10b0->nemo_toolkit[all]) (0.9.0)\n",
      "Requirement already satisfied: appdirs in c:\\users\\alex\\anaconda3\\lib\\site-packages (from black==19.10b0->nemo_toolkit[all]) (1.4.4)\n",
      "Requirement already satisfied: toml>=0.9.4 in c:\\users\\alex\\anaconda3\\lib\\site-packages (from black==19.10b0->nemo_toolkit[all]) (0.10.2)\n",
      "Requirement already satisfied: typed-ast>=1.4.0 in c:\\users\\alex\\anaconda3\\lib\\site-packages (from black==19.10b0->nemo_toolkit[all]) (1.5.4)\n",
      "Requirement already satisfied: colorama in c:\\users\\alex\\appdata\\roaming\\python\\python39\\site-packages (from click==8.0.2->nemo_toolkit[all]) (0.4.6)\n",
      "Requirement already satisfied: pillow in c:\\users\\alex\\anaconda3\\lib\\site-packages (from gradio==3.4.0->nemo_toolkit[all]) (9.2.0)\n",
      "Collecting h11<0.13,>=0.11\n",
      "  Using cached h11-0.12.0-py3-none-any.whl (54 kB)\n",
      "Requirement already satisfied: ffmpy in c:\\users\\alex\\anaconda3\\lib\\site-packages (from gradio==3.4.0->nemo_toolkit[all]) (0.3.0)\n",
      "Requirement already satisfied: fsspec in c:\\users\\alex\\anaconda3\\lib\\site-packages (from gradio==3.4.0->nemo_toolkit[all]) (2022.7.1)\n",
      "Collecting uvicorn\n",
      "  Using cached uvicorn-0.20.0-py3-none-any.whl (56 kB)\n",
      "Requirement already satisfied: python-multipart in c:\\users\\alex\\anaconda3\\lib\\site-packages (from gradio==3.4.0->nemo_toolkit[all]) (0.0.6)\n",
      "Requirement already satisfied: websockets in c:\\users\\alex\\anaconda3\\lib\\site-packages (from gradio==3.4.0->nemo_toolkit[all]) (10.4)\n",
      "Requirement already satisfied: orjson in c:\\users\\alex\\anaconda3\\lib\\site-packages (from gradio==3.4.0->nemo_toolkit[all]) (3.8.7)\n",
      "Requirement already satisfied: pydantic in c:\\users\\alex\\anaconda3\\lib\\site-packages (from gradio==3.4.0->nemo_toolkit[all]) (1.10.5)\n",
      "Collecting fastapi\n",
      "  Using cached fastapi-0.92.0-py3-none-any.whl (56 kB)\n",
      "Collecting markdown-it-py[linkify,plugins]\n",
      "  Using cached markdown_it_py-2.2.0-py3-none-any.whl (84 kB)\n",
      "Collecting aiohttp\n",
      "  Using cached aiohttp-3.8.4-cp39-cp39-win_amd64.whl (323 kB)\n",
      "Requirement already satisfied: jinja2 in c:\\users\\alex\\anaconda3\\lib\\site-packages (from gradio==3.4.0->nemo_toolkit[all]) (2.11.3)\n",
      "Requirement already satisfied: paramiko in c:\\users\\alex\\anaconda3\\lib\\site-packages (from gradio==3.4.0->nemo_toolkit[all]) (2.8.1)\n",
      "Requirement already satisfied: pycryptodome in c:\\users\\alex\\anaconda3\\lib\\site-packages (from gradio==3.4.0->nemo_toolkit[all]) (3.17)\n",
      "Collecting httpx\n",
      "  Using cached httpx-0.23.3-py3-none-any.whl (71 kB)\n",
      "Requirement already satisfied: requests in c:\\users\\alex\\anaconda3\\lib\\site-packages (from gradio==3.4.0->nemo_toolkit[all]) (2.28.1)\n",
      "Requirement already satisfied: antlr4-python3-runtime==4.9.* in c:\\users\\alex\\anaconda3\\lib\\site-packages (from hydra-core<1.3,>=1.2.0->nemo_toolkit[all]) (4.9.3)\n",
      "Collecting pipreqs\n",
      "  Using cached pipreqs-0.4.11-py2.py3-none-any.whl (32 kB)\n",
      "Requirement already satisfied: pip-api in c:\\users\\alex\\anaconda3\\lib\\site-packages (from isort[requirements]<5->nemo_toolkit[all]) (0.0.30)\n",
      "Collecting levenshtein==0.20.2\n",
      "  Using cached Levenshtein-0.20.2-cp39-cp39-win_amd64.whl (182 kB)\n",
      "Requirement already satisfied: audioread>=2.1.9 in c:\\users\\alex\\anaconda3\\lib\\site-packages (from librosa->nemo_toolkit[all]) (3.0.0)\n",
      "Requirement already satisfied: pooch>=1.0 in c:\\users\\alex\\anaconda3\\lib\\site-packages (from librosa->nemo_toolkit[all]) (1.7.0)\n",
      "Requirement already satisfied: decorator>=4.0.10 in c:\\users\\alex\\appdata\\roaming\\python\\python39\\site-packages (from librosa->nemo_toolkit[all]) (5.1.1)\n",
      "Requirement already satisfied: resampy>=0.2.2 in c:\\users\\alex\\anaconda3\\lib\\site-packages (from librosa->nemo_toolkit[all]) (0.4.2)\n",
      "Requirement already satisfied: joblib>=0.14 in c:\\users\\alex\\anaconda3\\lib\\site-packages (from librosa->nemo_toolkit[all]) (1.1.0)\n",
      "Requirement already satisfied: kiwisolver>=1.0.1 in c:\\users\\alex\\anaconda3\\lib\\site-packages (from matplotlib->nemo_toolkit[all]) (1.4.2)\n",
      "Requirement already satisfied: pyparsing>=2.2.1 in c:\\users\\alex\\anaconda3\\lib\\site-packages (from matplotlib->nemo_toolkit[all]) (3.0.9)\n",
      "Requirement already satisfied: fonttools>=4.22.0 in c:\\users\\alex\\anaconda3\\lib\\site-packages (from matplotlib->nemo_toolkit[all]) (4.25.0)\n",
      "Requirement already satisfied: cycler>=0.10 in c:\\users\\alex\\anaconda3\\lib\\site-packages (from matplotlib->nemo_toolkit[all]) (0.11.0)\n",
      "Collecting numba\n",
      "  Using cached numba-0.56.4-cp39-cp39-win_amd64.whl (2.5 MB)\n",
      "Collecting numpy>=1.22\n",
      "  Using cached numpy-1.23.5-cp39-cp39-win_amd64.whl (14.7 MB)\n",
      "Collecting llvmlite<0.40,>=0.39.0dev0\n",
      "  Using cached llvmlite-0.39.1-cp39-cp39-win_amd64.whl (23.2 MB)\n",
      "Requirement already satisfied: protobuf<4,>=3.20.2 in c:\\users\\alex\\anaconda3\\lib\\site-packages (from onnx>=1.7.0->nemo_toolkit[all]) (3.20.3)\n",
      "Requirement already satisfied: typing-extensions>=3.6.2.1 in c:\\users\\alex\\anaconda3\\lib\\site-packages (from onnx>=1.7.0->nemo_toolkit[all]) (4.3.0)\n",
      "Requirement already satisfied: six>=1.5 in c:\\users\\alex\\anaconda3\\lib\\site-packages (from python-dateutil->nemo_toolkit[all]) (1.16.0)\n",
      "Collecting lightning-utilities!=0.4.0,>=0.3.0\n",
      "  Using cached lightning_utilities-0.7.1-py3-none-any.whl (18 kB)\n",
      "Collecting tensorboardX>=2.2\n",
      "  Using cached tensorboardX-2.6-py2.py3-none-any.whl (114 kB)\n",
      "Requirement already satisfied: threadpoolctl>=2.0.0 in c:\\users\\alex\\anaconda3\\lib\\site-packages (from scikit-learn->nemo_toolkit[all]) (2.2.0)\n",
      "Requirement already satisfied: cffi>=1.0 in c:\\users\\alex\\anaconda3\\lib\\site-packages (from soundfile->nemo_toolkit[all]) (1.15.1)\n",
      "Requirement already satisfied: filelock in c:\\users\\alex\\anaconda3\\lib\\site-packages (from transformers<=4.21.2,>=4.0.1->nemo_toolkit[all]) (3.6.0)\n",
      "Requirement already satisfied: tokenizers!=0.11.3,<0.13,>=0.11.1 in c:\\users\\alex\\anaconda3\\lib\\site-packages (from transformers<=4.21.2,>=4.0.1->nemo_toolkit[all]) (0.12.1)\n",
      "Requirement already satisfied: botocore<1.28.0,>=1.27.28 in c:\\users\\alex\\anaconda3\\lib\\site-packages (from boto3->nemo_toolkit[all]) (1.27.28)\n",
      "Requirement already satisfied: jmespath<2.0.0,>=0.7.1 in c:\\users\\alex\\anaconda3\\lib\\site-packages (from boto3->nemo_toolkit[all]) (0.10.0)\n",
      "Requirement already satisfied: s3transfer<0.7.0,>=0.6.0 in c:\\users\\alex\\anaconda3\\lib\\site-packages (from boto3->nemo_toolkit[all]) (0.6.0)\n",
      "Requirement already satisfied: pybind11>=2.2 in c:\\users\\alex\\anaconda3\\lib\\site-packages (from fasttext->nemo_toolkit[all]) (2.10.3)\n",
      "Requirement already satisfied: Flask>=0.8 in c:\\users\\alex\\anaconda3\\lib\\site-packages (from flask-restful->nemo_toolkit[all]) (1.1.2)\n",
      "Requirement already satisfied: aniso8601>=0.82 in c:\\users\\alex\\anaconda3\\lib\\site-packages (from flask-restful->nemo_toolkit[all]) (9.0.1)\n",
      "Requirement already satisfied: pytz in c:\\users\\alex\\anaconda3\\lib\\site-packages (from flask-restful->nemo_toolkit[all]) (2022.1)\n",
      "Requirement already satisfied: wcwidth>=0.2.5 in c:\\users\\alex\\appdata\\roaming\\python\\python39\\site-packages (from ftfy->nemo_toolkit[all]) (0.2.6)\n",
      "Requirement already satisfied: distance>=0.1.3 in c:\\users\\alex\\anaconda3\\lib\\site-packages (from g2p-en->nemo_toolkit[all]) (0.1.3)\n",
      "Requirement already satisfied: beautifulsoup4 in c:\\users\\alex\\anaconda3\\lib\\site-packages (from gdown->nemo_toolkit[all]) (4.11.1)\n",
      "Requirement already satisfied: ipykernel>=4.5.1 in c:\\users\\alex\\appdata\\roaming\\python\\python39\\site-packages (from ipywidgets->nemo_toolkit[all]) (6.21.2)\n",
      "Requirement already satisfied: ipython>=4.0.0 in c:\\users\\alex\\appdata\\roaming\\python\\python39\\site-packages (from ipywidgets->nemo_toolkit[all]) (8.11.0)\n",
      "Requirement already satisfied: nbformat>=4.2.0 in c:\\users\\alex\\anaconda3\\lib\\site-packages (from ipywidgets->nemo_toolkit[all]) (5.5.0)\n",
      "Requirement already satisfied: ipython-genutils~=0.2.0 in c:\\users\\alex\\anaconda3\\lib\\site-packages (from ipywidgets->nemo_toolkit[all]) (0.2.0)\n",
      "Requirement already satisfied: traitlets>=4.3.1 in c:\\users\\alex\\appdata\\roaming\\python\\python39\\site-packages (from ipywidgets->nemo_toolkit[all]) (5.9.0)\n",
      "Requirement already satisfied: widgetsnbextension~=3.5.0 in c:\\users\\alex\\anaconda3\\lib\\site-packages (from ipywidgets->nemo_toolkit[all]) (3.5.2)\n",
      "Requirement already satisfied: jupyterlab-widgets>=1.0.0 in c:\\users\\alex\\anaconda3\\lib\\site-packages (from ipywidgets->nemo_toolkit[all]) (1.0.0)\n",
      "Requirement already satisfied: sortedcontainers>=2.0.4 in c:\\users\\alex\\anaconda3\\lib\\site-packages (from pyannote.core->nemo_toolkit[all]) (2.4.0)\n",
      "Requirement already satisfied: docopt>=0.6.2 in c:\\users\\alex\\anaconda3\\lib\\site-packages (from pyannote.metrics->nemo_toolkit[all]) (0.6.2)\n",
      "Collecting pyannote.database>=4.0.1\n",
      "  Using cached pyannote.database-4.1.3-py3-none-any.whl (41 kB)\n",
      "Requirement already satisfied: sympy>=1.1 in c:\\users\\alex\\anaconda3\\lib\\site-packages (from pyannote.metrics->nemo_toolkit[all]) (1.10.1)\n",
      "Requirement already satisfied: iniconfig in c:\\users\\alex\\anaconda3\\lib\\site-packages (from pytest->nemo_toolkit[all]) (1.1.1)\n",
      "Requirement already satisfied: pluggy<2.0,>=0.12 in c:\\users\\alex\\anaconda3\\lib\\site-packages (from pytest->nemo_toolkit[all]) (1.0.0)\n",
      "Requirement already satisfied: py>=1.8.2 in c:\\users\\alex\\anaconda3\\lib\\site-packages (from pytest->nemo_toolkit[all]) (1.11.0)\n",
      "Requirement already satisfied: tomli>=1.0.0 in c:\\users\\alex\\anaconda3\\lib\\site-packages (from pytest->nemo_toolkit[all]) (2.0.1)\n",
      "Requirement already satisfied: atomicwrites>=1.0 in c:\\users\\alex\\anaconda3\\lib\\site-packages (from pytest->nemo_toolkit[all]) (1.4.0)\n",
      "Requirement already satisfied: ruamel.yaml.clib>=0.2.6 in c:\\users\\alex\\anaconda3\\lib\\site-packages (from ruamel.yaml->nemo_toolkit[all]) (0.2.7)\n",
      "Requirement already satisfied: lxml in c:\\users\\alex\\anaconda3\\lib\\site-packages (from sacrebleu[ja]->nemo_toolkit[all]) (4.9.1)\n",
      "Requirement already satisfied: portalocker in c:\\users\\alex\\anaconda3\\lib\\site-packages (from sacrebleu[ja]->nemo_toolkit[all]) (2.7.0)\n",
      "Requirement already satisfied: ipadic<2.0,>=1.0 in c:\\users\\alex\\anaconda3\\lib\\site-packages (from sacrebleu[ja]->nemo_toolkit[all]) (1.0.0)\n",
      "Requirement already satisfied: mecab-python3==1.0.5 in c:\\users\\alex\\anaconda3\\lib\\site-packages (from sacrebleu[ja]->nemo_toolkit[all]) (1.0.5)\n",
      "Collecting torchvision\n",
      "  Using cached torchvision-0.14.1-cp39-cp39-win_amd64.whl (1.1 MB)\n",
      "Requirement already satisfied: snowballstemmer>=1.1 in c:\\users\\alex\\anaconda3\\lib\\site-packages (from sphinx->nemo_toolkit[all]) (2.2.0)\n",
      "Requirement already satisfied: imagesize in c:\\users\\alex\\anaconda3\\lib\\site-packages (from sphinx->nemo_toolkit[all]) (1.4.1)\n",
      "Requirement already satisfied: Pygments>=2.0 in c:\\users\\alex\\appdata\\roaming\\python\\python39\\site-packages (from sphinx->nemo_toolkit[all]) (2.14.0)\n",
      "Requirement already satisfied: importlib-metadata>=4.4 in c:\\users\\alex\\appdata\\roaming\\python\\python39\\site-packages (from sphinx->nemo_toolkit[all]) (6.0.0)\n",
      "Requirement already satisfied: babel>=1.3 in c:\\users\\alex\\anaconda3\\lib\\site-packages (from sphinx->nemo_toolkit[all]) (2.9.1)\n",
      "Requirement already satisfied: sphinxcontrib-applehelp in c:\\users\\alex\\anaconda3\\lib\\site-packages (from sphinx->nemo_toolkit[all]) (1.0.2)\n",
      "Requirement already satisfied: sphinxcontrib-devhelp in c:\\users\\alex\\anaconda3\\lib\\site-packages (from sphinx->nemo_toolkit[all]) (1.0.2)\n",
      "Requirement already satisfied: sphinxcontrib-serializinghtml>=1.1.5 in c:\\users\\alex\\anaconda3\\lib\\site-packages (from sphinx->nemo_toolkit[all]) (1.1.5)\n",
      "Requirement already satisfied: alabaster<0.8,>=0.7 in c:\\users\\alex\\anaconda3\\lib\\site-packages (from sphinx->nemo_toolkit[all]) (0.7.12)\n",
      "Requirement already satisfied: docutils<0.19,>=0.14 in c:\\users\\alex\\anaconda3\\lib\\site-packages (from sphinx->nemo_toolkit[all]) (0.18.1)\n",
      "Requirement already satisfied: sphinxcontrib-jsmath in c:\\users\\alex\\anaconda3\\lib\\site-packages (from sphinx->nemo_toolkit[all]) (1.0.1)\n",
      "Requirement already satisfied: sphinxcontrib-qthelp in c:\\users\\alex\\anaconda3\\lib\\site-packages (from sphinx->nemo_toolkit[all]) (1.0.3)\n",
      "Requirement already satisfied: sphinxcontrib-htmlhelp>=2.0.0 in c:\\users\\alex\\anaconda3\\lib\\site-packages (from sphinx->nemo_toolkit[all]) (2.0.0)\n",
      "Collecting pybtex>=0.24\n",
      "  Using cached pybtex-0.24.0-py2.py3-none-any.whl (561 kB)\n",
      "Collecting pybtex-docutils>=1.0.0\n",
      "  Using cached pybtex_docutils-1.0.2-py3-none-any.whl (6.3 kB)\n",
      "Requirement already satisfied: google-auth-oauthlib<0.5,>=0.4.1 in c:\\users\\alex\\anaconda3\\lib\\site-packages (from tensorboard->nemo_toolkit[all]) (0.4.6)\n",
      "Requirement already satisfied: tensorboard-data-server<0.7.0,>=0.6.0 in c:\\users\\alex\\anaconda3\\lib\\site-packages (from tensorboard->nemo_toolkit[all]) (0.6.1)\n",
      "Requirement already satisfied: grpcio>=1.24.3 in c:\\users\\alex\\anaconda3\\lib\\site-packages (from tensorboard->nemo_toolkit[all]) (1.51.1)\n",
      "Requirement already satisfied: tensorboard-plugin-wit>=1.6.0 in c:\\users\\alex\\anaconda3\\lib\\site-packages (from tensorboard->nemo_toolkit[all]) (1.8.1)\n",
      "Requirement already satisfied: werkzeug>=1.0.1 in c:\\users\\alex\\anaconda3\\lib\\site-packages (from tensorboard->nemo_toolkit[all]) (2.0.3)\n",
      "Requirement already satisfied: absl-py>=0.4 in c:\\users\\alex\\anaconda3\\lib\\site-packages (from tensorboard->nemo_toolkit[all]) (1.4.0)\n",
      "Requirement already satisfied: wheel>=0.26 in c:\\users\\alex\\anaconda3\\lib\\site-packages (from tensorboard->nemo_toolkit[all]) (0.37.1)\n",
      "Requirement already satisfied: google-auth<3,>=1.6.3 in c:\\users\\alex\\anaconda3\\lib\\site-packages (from tensorboard->nemo_toolkit[all]) (2.16.0)\n",
      "Requirement already satisfied: markdown>=2.6.8 in c:\\users\\alex\\anaconda3\\lib\\site-packages (from tensorboard->nemo_toolkit[all]) (3.3.4)\n",
      "Collecting loguru\n",
      "  Using cached loguru-0.6.0-py3-none-any.whl (58 kB)\n",
      "Requirement already satisfied: termcolor in c:\\users\\alex\\anaconda3\\lib\\site-packages (from texterrors->nemo_toolkit[all]) (2.2.0)\n",
      "Requirement already satisfied: plac in c:\\users\\alex\\anaconda3\\lib\\site-packages (from texterrors->nemo_toolkit[all]) (1.3.5)\n",
      "Collecting GitPython>=1.0.0\n",
      "  Using cached GitPython-3.1.31-py3-none-any.whl (184 kB)\n",
      "Requirement already satisfied: sentry-sdk>=1.0.0 in c:\\users\\alex\\anaconda3\\lib\\site-packages (from wandb->nemo_toolkit[all]) (1.16.0)\n",
      "Requirement already satisfied: setproctitle in c:\\users\\alex\\anaconda3\\lib\\site-packages (from wandb->nemo_toolkit[all]) (1.3.2)\n",
      "Requirement already satisfied: pathtools in c:\\users\\alex\\anaconda3\\lib\\site-packages (from wandb->nemo_toolkit[all]) (0.1.2)\n",
      "Requirement already satisfied: psutil>=5.0.0 in c:\\users\\alex\\appdata\\roaming\\python\\python39\\site-packages (from wandb->nemo_toolkit[all]) (5.9.4)\n",
      "Collecting docker-pycreds>=0.4.0\n",
      "  Using cached docker_pycreds-0.4.0-py2.py3-none-any.whl (9.0 kB)\n",
      "Requirement already satisfied: urllib3<1.27,>=1.25.4 in c:\\users\\alex\\anaconda3\\lib\\site-packages (from botocore<1.28.0,>=1.27.28->boto3->nemo_toolkit[all]) (1.26.11)\n",
      "Requirement already satisfied: pycparser in c:\\users\\alex\\anaconda3\\lib\\site-packages (from cffi>=1.0->soundfile->nemo_toolkit[all]) (2.21)\n",
      "Requirement already satisfied: itsdangerous>=0.24 in c:\\users\\alex\\anaconda3\\lib\\site-packages (from Flask>=0.8->flask-restful->nemo_toolkit[all]) (2.0.1)\n",
      "Collecting gitdb<5,>=4.0.1\n",
      "  Using cached gitdb-4.0.10-py3-none-any.whl (62 kB)\n",
      "Requirement already satisfied: rsa<5,>=3.1.4 in c:\\users\\alex\\anaconda3\\lib\\site-packages (from google-auth<3,>=1.6.3->tensorboard->nemo_toolkit[all]) (4.9)\n",
      "Requirement already satisfied: cachetools<6.0,>=2.0.0 in c:\\users\\alex\\anaconda3\\lib\\site-packages (from google-auth<3,>=1.6.3->tensorboard->nemo_toolkit[all]) (5.3.0)\n",
      "Requirement already satisfied: pyasn1-modules>=0.2.1 in c:\\users\\alex\\anaconda3\\lib\\site-packages (from google-auth<3,>=1.6.3->tensorboard->nemo_toolkit[all]) (0.2.8)\n",
      "Requirement already satisfied: requests-oauthlib>=0.7.0 in c:\\users\\alex\\anaconda3\\lib\\site-packages (from google-auth-oauthlib<0.5,>=0.4.1->tensorboard->nemo_toolkit[all]) (1.3.1)\n",
      "Requirement already satisfied: zipp>=0.5 in c:\\users\\alex\\appdata\\roaming\\python\\python39\\site-packages (from importlib-metadata>=4.4->sphinx->nemo_toolkit[all]) (3.15.0)\n",
      "Requirement already satisfied: nest-asyncio in c:\\users\\alex\\appdata\\roaming\\python\\python39\\site-packages (from ipykernel>=4.5.1->ipywidgets->nemo_toolkit[all]) (1.5.6)\n",
      "Requirement already satisfied: jupyter-client>=6.1.12 in c:\\users\\alex\\appdata\\roaming\\python\\python39\\site-packages (from ipykernel>=4.5.1->ipywidgets->nemo_toolkit[all]) (8.0.3)\n",
      "Requirement already satisfied: pyzmq>=20 in c:\\users\\alex\\appdata\\roaming\\python\\python39\\site-packages (from ipykernel>=4.5.1->ipywidgets->nemo_toolkit[all]) (25.0.0)\n",
      "Requirement already satisfied: debugpy>=1.6.5 in c:\\users\\alex\\appdata\\roaming\\python\\python39\\site-packages (from ipykernel>=4.5.1->ipywidgets->nemo_toolkit[all]) (1.6.6)\n",
      "Requirement already satisfied: tornado>=6.1 in c:\\users\\alex\\appdata\\roaming\\python\\python39\\site-packages (from ipykernel>=4.5.1->ipywidgets->nemo_toolkit[all]) (6.2)\n",
      "Requirement already satisfied: jupyter-core!=5.0.*,>=4.12 in c:\\users\\alex\\appdata\\roaming\\python\\python39\\site-packages (from ipykernel>=4.5.1->ipywidgets->nemo_toolkit[all]) (5.2.0)\n",
      "Requirement already satisfied: comm>=0.1.1 in c:\\users\\alex\\appdata\\roaming\\python\\python39\\site-packages (from ipykernel>=4.5.1->ipywidgets->nemo_toolkit[all]) (0.1.2)\n",
      "Requirement already satisfied: matplotlib-inline>=0.1 in c:\\users\\alex\\appdata\\roaming\\python\\python39\\site-packages (from ipykernel>=4.5.1->ipywidgets->nemo_toolkit[all]) (0.1.6)\n",
      "Requirement already satisfied: pickleshare in c:\\users\\alex\\appdata\\roaming\\python\\python39\\site-packages (from ipython>=4.0.0->ipywidgets->nemo_toolkit[all]) (0.7.5)\n",
      "Requirement already satisfied: stack-data in c:\\users\\alex\\appdata\\roaming\\python\\python39\\site-packages (from ipython>=4.0.0->ipywidgets->nemo_toolkit[all]) (0.6.2)\n",
      "Requirement already satisfied: jedi>=0.16 in c:\\users\\alex\\appdata\\roaming\\python\\python39\\site-packages (from ipython>=4.0.0->ipywidgets->nemo_toolkit[all]) (0.18.2)\n",
      "Requirement already satisfied: backcall in c:\\users\\alex\\appdata\\roaming\\python\\python39\\site-packages (from ipython>=4.0.0->ipywidgets->nemo_toolkit[all]) (0.2.0)\n",
      "Requirement already satisfied: prompt-toolkit!=3.0.37,<3.1.0,>=3.0.30 in c:\\users\\alex\\appdata\\roaming\\python\\python39\\site-packages (from ipython>=4.0.0->ipywidgets->nemo_toolkit[all]) (3.0.38)\n",
      "Requirement already satisfied: MarkupSafe>=0.23 in c:\\users\\alex\\anaconda3\\lib\\site-packages (from jinja2->gradio==3.4.0->nemo_toolkit[all]) (2.0.1)\n",
      "Requirement already satisfied: jsonschema>=2.6 in c:\\users\\alex\\anaconda3\\lib\\site-packages (from nbformat>=4.2.0->ipywidgets->nemo_toolkit[all]) (4.16.0)\n",
      "Requirement already satisfied: fastjsonschema in c:\\users\\alex\\anaconda3\\lib\\site-packages (from nbformat>=4.2.0->ipywidgets->nemo_toolkit[all]) (2.16.2)\n",
      "Requirement already satisfied: platformdirs>=2.5.0 in c:\\users\\alex\\appdata\\roaming\\python\\python39\\site-packages (from pooch>=1.0->librosa->nemo_toolkit[all]) (3.1.0)\n",
      "Collecting typer[all]>=0.2.1\n",
      "  Using cached typer-0.7.0-py3-none-any.whl (38 kB)\n",
      "Collecting latexcodec>=1.0.4\n",
      "  Using cached latexcodec-2.0.1-py2.py3-none-any.whl (18 kB)\n",
      "Requirement already satisfied: charset-normalizer<3,>=2 in c:\\users\\alex\\anaconda3\\lib\\site-packages (from requests->gradio==3.4.0->nemo_toolkit[all]) (2.0.4)\n",
      "Requirement already satisfied: idna<4,>=2.5 in c:\\users\\alex\\anaconda3\\lib\\site-packages (from requests->gradio==3.4.0->nemo_toolkit[all]) (3.3)\n",
      "Requirement already satisfied: certifi>=2017.4.17 in c:\\users\\alex\\anaconda3\\lib\\site-packages (from requests->gradio==3.4.0->nemo_toolkit[all]) (2022.9.14)\n",
      "Requirement already satisfied: mpmath>=0.19 in c:\\users\\alex\\anaconda3\\lib\\site-packages (from sympy>=1.1->pyannote.metrics->nemo_toolkit[all]) (1.2.1)\n",
      "Requirement already satisfied: notebook>=4.4.1 in c:\\users\\alex\\anaconda3\\lib\\site-packages (from widgetsnbextension~=3.5.0->ipywidgets->nemo_toolkit[all]) (6.4.12)\n",
      "Collecting aiosignal>=1.1.2\n",
      "  Using cached aiosignal-1.3.1-py3-none-any.whl (7.6 kB)\n",
      "Collecting frozenlist>=1.1.1\n",
      "  Using cached frozenlist-1.3.3-cp39-cp39-win_amd64.whl (34 kB)\n",
      "Collecting async-timeout<5.0,>=4.0.0a3\n",
      "  Using cached async_timeout-4.0.2-py3-none-any.whl (5.8 kB)\n",
      "Collecting yarl<2.0,>=1.0\n",
      "  Using cached yarl-1.8.2-cp39-cp39-win_amd64.whl (56 kB)\n",
      "Requirement already satisfied: multidict<7.0,>=4.5 in c:\\users\\alex\\anaconda3\\lib\\site-packages (from aiohttp->gradio==3.4.0->nemo_toolkit[all]) (6.0.4)\n",
      "Requirement already satisfied: soupsieve>1.2 in c:\\users\\alex\\anaconda3\\lib\\site-packages (from beautifulsoup4->gdown->nemo_toolkit[all]) (2.3.1)\n",
      "Collecting starlette<0.26.0,>=0.25.0\n",
      "  Using cached starlette-0.25.0-py3-none-any.whl (66 kB)\n",
      "Requirement already satisfied: rfc3986[idna2008]<2,>=1.3 in c:\\users\\alex\\anaconda3\\lib\\site-packages (from httpx->gradio==3.4.0->nemo_toolkit[all]) (1.5.0)\n",
      "Requirement already satisfied: sniffio in c:\\users\\alex\\anaconda3\\lib\\site-packages (from httpx->gradio==3.4.0->nemo_toolkit[all]) (1.2.0)\n",
      "Collecting httpcore<0.17.0,>=0.15.0\n",
      "  Using cached httpcore-0.16.3-py3-none-any.whl (69 kB)\n",
      "Requirement already satisfied: win32-setctime>=1.0.0 in c:\\users\\alex\\anaconda3\\lib\\site-packages (from loguru->texterrors->nemo_toolkit[all]) (1.1.0)\n",
      "Requirement already satisfied: mdurl~=0.1 in c:\\users\\alex\\anaconda3\\lib\\site-packages (from markdown-it-py[linkify,plugins]->gradio==3.4.0->nemo_toolkit[all]) (0.1.2)\n",
      "Collecting mdit-py-plugins\n",
      "  Using cached mdit_py_plugins-0.3.5-py3-none-any.whl (52 kB)\n",
      "Collecting linkify-it-py<3,>=1\n",
      "  Using cached linkify_it_py-2.0.0-py3-none-any.whl (19 kB)\n",
      "Requirement already satisfied: cryptography>=2.5 in c:\\users\\alex\\anaconda3\\lib\\site-packages (from paramiko->gradio==3.4.0->nemo_toolkit[all]) (37.0.1)\n",
      "Requirement already satisfied: bcrypt>=3.1.3 in c:\\users\\alex\\anaconda3\\lib\\site-packages (from paramiko->gradio==3.4.0->nemo_toolkit[all]) (3.2.0)\n",
      "Requirement already satisfied: pynacl>=1.0.1 in c:\\users\\alex\\anaconda3\\lib\\site-packages (from paramiko->gradio==3.4.0->nemo_toolkit[all]) (1.5.0)\n",
      "Requirement already satisfied: pip in c:\\users\\alex\\anaconda3\\lib\\site-packages (from pip-api->isort[requirements]<5->nemo_toolkit[all]) (22.2.2)\n",
      "Collecting yarg\n",
      "  Using cached yarg-0.1.9-py2.py3-none-any.whl (19 kB)\n",
      "Requirement already satisfied: pywin32>=226 in c:\\users\\alex\\appdata\\roaming\\python\\python39\\site-packages (from portalocker->sacrebleu[ja]->nemo_toolkit[all]) (305)\n",
      "Requirement already satisfied: PySocks!=1.5.7,>=1.5.6 in c:\\users\\alex\\anaconda3\\lib\\site-packages (from requests->gradio==3.4.0->nemo_toolkit[all]) (1.7.1)\n",
      "Requirement already satisfied: smmap<6,>=3.0.1 in c:\\users\\alex\\anaconda3\\lib\\site-packages (from gitdb<5,>=4.0.1->GitPython>=1.0.0->wandb->nemo_toolkit[all]) (5.0.0)\n",
      "Requirement already satisfied: anyio<5.0,>=3.0 in c:\\users\\alex\\anaconda3\\lib\\site-packages (from httpcore<0.17.0,>=0.15.0->httpx->gradio==3.4.0->nemo_toolkit[all]) (3.5.0)\n",
      "Collecting httpcore<0.17.0,>=0.15.0\n",
      "  Using cached httpcore-0.16.2-py3-none-any.whl (68 kB)\n",
      "  Using cached httpcore-0.16.1-py3-none-any.whl (68 kB)\n",
      "  Using cached httpcore-0.16.0-py3-none-any.whl (68 kB)\n",
      "  Using cached httpcore-0.15.0-py3-none-any.whl (68 kB)\n",
      "Requirement already satisfied: parso<0.9.0,>=0.8.0 in c:\\users\\alex\\appdata\\roaming\\python\\python39\\site-packages (from jedi>=0.16->ipython>=4.0.0->ipywidgets->nemo_toolkit[all]) (0.8.3)\n",
      "Requirement already satisfied: pyrsistent!=0.17.0,!=0.17.1,!=0.17.2,>=0.14.0 in c:\\users\\alex\\anaconda3\\lib\\site-packages (from jsonschema>=2.6->nbformat>=4.2.0->ipywidgets->nemo_toolkit[all]) (0.18.0)\n",
      "Requirement already satisfied: uc-micro-py in c:\\users\\alex\\anaconda3\\lib\\site-packages (from linkify-it-py<3,>=1->markdown-it-py[linkify,plugins]->gradio==3.4.0->nemo_toolkit[all]) (1.0.1)\n",
      "Requirement already satisfied: argon2-cffi in c:\\users\\alex\\anaconda3\\lib\\site-packages (from notebook>=4.4.1->widgetsnbextension~=3.5.0->ipywidgets->nemo_toolkit[all]) (21.3.0)\n",
      "Requirement already satisfied: nbconvert>=5 in c:\\users\\alex\\anaconda3\\lib\\site-packages (from notebook>=4.4.1->widgetsnbextension~=3.5.0->ipywidgets->nemo_toolkit[all]) (6.4.4)\n",
      "Requirement already satisfied: Send2Trash>=1.8.0 in c:\\users\\alex\\anaconda3\\lib\\site-packages (from notebook>=4.4.1->widgetsnbextension~=3.5.0->ipywidgets->nemo_toolkit[all]) (1.8.0)\n",
      "Requirement already satisfied: terminado>=0.8.3 in c:\\users\\alex\\anaconda3\\lib\\site-packages (from notebook>=4.4.1->widgetsnbextension~=3.5.0->ipywidgets->nemo_toolkit[all]) (0.13.1)\n",
      "Requirement already satisfied: prometheus-client in c:\\users\\alex\\anaconda3\\lib\\site-packages (from notebook>=4.4.1->widgetsnbextension~=3.5.0->ipywidgets->nemo_toolkit[all]) (0.14.1)\n",
      "Requirement already satisfied: pyasn1<0.5.0,>=0.4.6 in c:\\users\\alex\\anaconda3\\lib\\site-packages (from pyasn1-modules>=0.2.1->google-auth<3,>=1.6.3->tensorboard->nemo_toolkit[all]) (0.4.8)\n",
      "Requirement already satisfied: oauthlib>=3.0.0 in c:\\users\\alex\\anaconda3\\lib\\site-packages (from requests-oauthlib>=0.7.0->google-auth-oauthlib<0.5,>=0.4.1->tensorboard->nemo_toolkit[all]) (3.2.2)\n",
      "Requirement already satisfied: rich<13.0.0,>=10.11.0 in c:\\users\\alex\\anaconda3\\lib\\site-packages (from typer[all]>=0.2.1->pyannote.database>=4.0.1->pyannote.metrics->nemo_toolkit[all]) (12.6.0)\n",
      "Requirement already satisfied: shellingham<2.0.0,>=1.3.0 in c:\\users\\alex\\anaconda3\\lib\\site-packages (from typer[all]>=0.2.1->pyannote.database>=4.0.1->pyannote.metrics->nemo_toolkit[all]) (1.5.0.post1)\n",
      "Requirement already satisfied: asttokens>=2.1.0 in c:\\users\\alex\\appdata\\roaming\\python\\python39\\site-packages (from stack-data->ipython>=4.0.0->ipywidgets->nemo_toolkit[all]) (2.2.1)\n",
      "Requirement already satisfied: pure-eval in c:\\users\\alex\\appdata\\roaming\\python\\python39\\site-packages (from stack-data->ipython>=4.0.0->ipywidgets->nemo_toolkit[all]) (0.2.2)\n",
      "Requirement already satisfied: executing>=1.2.0 in c:\\users\\alex\\appdata\\roaming\\python\\python39\\site-packages (from stack-data->ipython>=4.0.0->ipywidgets->nemo_toolkit[all]) (1.2.0)\n",
      "Requirement already satisfied: mistune<2,>=0.8.1 in c:\\users\\alex\\anaconda3\\lib\\site-packages (from nbconvert>=5->notebook>=4.4.1->widgetsnbextension~=3.5.0->ipywidgets->nemo_toolkit[all]) (0.8.4)\n",
      "Requirement already satisfied: jupyterlab-pygments in c:\\users\\alex\\anaconda3\\lib\\site-packages (from nbconvert>=5->notebook>=4.4.1->widgetsnbextension~=3.5.0->ipywidgets->nemo_toolkit[all]) (0.1.2)\n",
      "Requirement already satisfied: bleach in c:\\users\\alex\\anaconda3\\lib\\site-packages (from nbconvert>=5->notebook>=4.4.1->widgetsnbextension~=3.5.0->ipywidgets->nemo_toolkit[all]) (4.1.0)\n",
      "Requirement already satisfied: defusedxml in c:\\users\\alex\\anaconda3\\lib\\site-packages (from nbconvert>=5->notebook>=4.4.1->widgetsnbextension~=3.5.0->ipywidgets->nemo_toolkit[all]) (0.7.1)\n",
      "Requirement already satisfied: entrypoints>=0.2.2 in c:\\users\\alex\\anaconda3\\lib\\site-packages (from nbconvert>=5->notebook>=4.4.1->widgetsnbextension~=3.5.0->ipywidgets->nemo_toolkit[all]) (0.4)\n",
      "Requirement already satisfied: pandocfilters>=1.4.1 in c:\\users\\alex\\anaconda3\\lib\\site-packages (from nbconvert>=5->notebook>=4.4.1->widgetsnbextension~=3.5.0->ipywidgets->nemo_toolkit[all]) (1.5.0)\n",
      "Requirement already satisfied: testpath in c:\\users\\alex\\anaconda3\\lib\\site-packages (from nbconvert>=5->notebook>=4.4.1->widgetsnbextension~=3.5.0->ipywidgets->nemo_toolkit[all]) (0.6.0)\n",
      "Requirement already satisfied: nbclient<0.6.0,>=0.5.0 in c:\\users\\alex\\anaconda3\\lib\\site-packages (from nbconvert>=5->notebook>=4.4.1->widgetsnbextension~=3.5.0->ipywidgets->nemo_toolkit[all]) (0.5.13)\n",
      "Requirement already satisfied: commonmark<0.10.0,>=0.9.0 in c:\\users\\alex\\anaconda3\\lib\\site-packages (from rich<13.0.0,>=10.11.0->typer[all]>=0.2.1->pyannote.database>=4.0.1->pyannote.metrics->nemo_toolkit[all]) (0.9.1)\n",
      "Requirement already satisfied: pywinpty>=1.1.0 in c:\\users\\alex\\anaconda3\\lib\\site-packages (from terminado>=0.8.3->notebook>=4.4.1->widgetsnbextension~=3.5.0->ipywidgets->nemo_toolkit[all]) (2.0.2)\n",
      "Requirement already satisfied: argon2-cffi-bindings in c:\\users\\alex\\anaconda3\\lib\\site-packages (from argon2-cffi->notebook>=4.4.1->widgetsnbextension~=3.5.0->ipywidgets->nemo_toolkit[all]) (21.2.0)\n",
      "Requirement already satisfied: webencodings in c:\\users\\alex\\anaconda3\\lib\\site-packages (from bleach->nbconvert>=5->notebook>=4.4.1->widgetsnbextension~=3.5.0->ipywidgets->nemo_toolkit[all]) (0.5.1)\n",
      "Installing collected packages: yarl, pypinyin-dict, omegaconf, numpy, markdown-it-py, loguru, llvmlite, linkify-it-py, lightning-utilities, levenshtein, latexcodec, isort, h11, gitdb, ftfy, frozenlist, einops, editdistance, docker-pycreds, click, attrdict, async-timeout, youtokentome, yarg, webdataset, uvicorn, typer, torchvision, torchmetrics, texterrors, tensorboardX, starlette, sox, sacremoses, sacrebleu, pybtex, onnx, numba, mdit-py-plugins, kaldiio, kaldi-python-io, jiwer, inflect, hydra-core, httpcore, GitPython, fasttext, black, aiosignal, wandb, transformers, pybtex-docutils, pyannote.core, pipreqs, httpx, gdown, g2p-en, flask-restful, fastapi, aiohttp, sphinxcontrib-bibtex, sentence-transformers, pyannote.database, gradio, pytorch-lightning, pyannote.metrics, nemo_toolkit\n",
      "  Attempting uninstall: numpy\n",
      "    Found existing installation: numpy 1.20.0\n",
      "    Uninstalling numpy-1.20.0:\n",
      "      Successfully uninstalled numpy-1.20.0\n",
      "  Attempting uninstall: llvmlite\n",
      "    Found existing installation: llvmlite 0.38.0\n",
      "Note: you may need to restart the kernel to use updated packages.\n"
     ]
    },
    {
     "name": "stderr",
     "output_type": "stream",
     "text": [
      "ERROR: Cannot uninstall 'llvmlite'. It is a distutils installed project and thus we cannot accurately determine which files belong to it which would lead to only a partial uninstall.\n"
     ]
    }
   ],
   "source": [
    "%pip install nemo_toolkit[all]"
   ]
  },
  {
   "cell_type": "markdown",
   "metadata": {},
   "source": [
    "Загрузим наш аудио файл:"
   ]
  },
  {
   "cell_type": "code",
   "execution_count": 8,
   "metadata": {},
   "outputs": [
    {
     "ename": "ImportError",
     "evalue": "Numba needs NumPy 1.21 or less",
     "output_type": "error",
     "traceback": [
      "\u001b[1;31m---------------------------------------------------------------------------\u001b[0m",
      "\u001b[1;31mImportError\u001b[0m                               Traceback (most recent call last)",
      "Cell \u001b[1;32mIn[8], line 1\u001b[0m\n\u001b[1;32m----> 1\u001b[0m \u001b[38;5;28;01mimport\u001b[39;00m \u001b[38;5;21;01mlibrosa\u001b[39;00m\n\u001b[0;32m      2\u001b[0m \u001b[38;5;28;01mimport\u001b[39;00m \u001b[38;5;21;01mlibrosa\u001b[39;00m\u001b[38;5;21;01m.\u001b[39;00m\u001b[38;5;21;01mdisplay\u001b[39;00m\n\u001b[0;32m      3\u001b[0m \u001b[38;5;28;01mimport\u001b[39;00m \u001b[38;5;21;01mmatplotlib\u001b[39;00m\u001b[38;5;21;01m.\u001b[39;00m\u001b[38;5;21;01mpyplot\u001b[39;00m \u001b[38;5;28;01mas\u001b[39;00m \u001b[38;5;21;01mplt\u001b[39;00m\n",
      "File \u001b[1;32mc:\\Users\\Alex\\anaconda3\\lib\\site-packages\\librosa\\__init__.py:209\u001b[0m\n\u001b[0;32m    207\u001b[0m \u001b[39m# And all the librosa sub-modules\u001b[39;00m\n\u001b[0;32m    208\u001b[0m \u001b[39mfrom\u001b[39;00m \u001b[39m.\u001b[39;00m\u001b[39m_cache\u001b[39;00m \u001b[39mimport\u001b[39;00m cache\n\u001b[1;32m--> 209\u001b[0m \u001b[39mfrom\u001b[39;00m \u001b[39m.\u001b[39;00m \u001b[39mimport\u001b[39;00m core\n\u001b[0;32m    210\u001b[0m \u001b[39mfrom\u001b[39;00m \u001b[39m.\u001b[39;00m \u001b[39mimport\u001b[39;00m beat\n\u001b[0;32m    211\u001b[0m \u001b[39mfrom\u001b[39;00m \u001b[39m.\u001b[39;00m \u001b[39mimport\u001b[39;00m decompose\n",
      "File \u001b[1;32mc:\\Users\\Alex\\anaconda3\\lib\\site-packages\\librosa\\core\\__init__.py:5\u001b[0m\n\u001b[0;32m      1\u001b[0m \u001b[39m#!/usr/bin/env python\u001b[39;00m\n\u001b[0;32m      2\u001b[0m \u001b[39m# -*- coding: utf-8 -*-\u001b[39;00m\n\u001b[0;32m      3\u001b[0m \u001b[39m\"\"\" Core IO and DSP functions\"\"\"\u001b[39;00m\n\u001b[1;32m----> 5\u001b[0m \u001b[39mfrom\u001b[39;00m \u001b[39m.\u001b[39;00m\u001b[39mconvert\u001b[39;00m \u001b[39mimport\u001b[39;00m \u001b[39m*\u001b[39m  \u001b[39m# pylint: disable=wildcard-import\u001b[39;00m\n\u001b[0;32m      6\u001b[0m \u001b[39mfrom\u001b[39;00m \u001b[39m.\u001b[39;00m\u001b[39maudio\u001b[39;00m \u001b[39mimport\u001b[39;00m \u001b[39m*\u001b[39m  \u001b[39m# pylint: disable=wildcard-import\u001b[39;00m\n\u001b[0;32m      7\u001b[0m \u001b[39mfrom\u001b[39;00m \u001b[39m.\u001b[39;00m\u001b[39mspectrum\u001b[39;00m \u001b[39mimport\u001b[39;00m \u001b[39m*\u001b[39m  \u001b[39m# pylint: disable=wildcard-import\u001b[39;00m\n",
      "File \u001b[1;32mc:\\Users\\Alex\\anaconda3\\lib\\site-packages\\librosa\\core\\convert.py:7\u001b[0m\n\u001b[0;32m      5\u001b[0m \u001b[39mimport\u001b[39;00m \u001b[39mre\u001b[39;00m\n\u001b[0;32m      6\u001b[0m \u001b[39mimport\u001b[39;00m \u001b[39mnumpy\u001b[39;00m \u001b[39mas\u001b[39;00m \u001b[39mnp\u001b[39;00m\n\u001b[1;32m----> 7\u001b[0m \u001b[39mfrom\u001b[39;00m \u001b[39m.\u001b[39;00m \u001b[39mimport\u001b[39;00m notation\n\u001b[0;32m      8\u001b[0m \u001b[39mfrom\u001b[39;00m \u001b[39m.\u001b[39;00m\u001b[39m.\u001b[39;00m\u001b[39mutil\u001b[39;00m\u001b[39m.\u001b[39;00m\u001b[39mexceptions\u001b[39;00m \u001b[39mimport\u001b[39;00m ParameterError\n\u001b[0;32m      9\u001b[0m \u001b[39mfrom\u001b[39;00m \u001b[39m.\u001b[39;00m\u001b[39m.\u001b[39;00m\u001b[39mutil\u001b[39;00m\u001b[39m.\u001b[39;00m\u001b[39mdecorators\u001b[39;00m \u001b[39mimport\u001b[39;00m deprecate_positional_args\n",
      "File \u001b[1;32mc:\\Users\\Alex\\anaconda3\\lib\\site-packages\\librosa\\core\\notation.py:8\u001b[0m\n\u001b[0;32m      6\u001b[0m \u001b[39mimport\u001b[39;00m \u001b[39mnumpy\u001b[39;00m \u001b[39mas\u001b[39;00m \u001b[39mnp\u001b[39;00m\n\u001b[0;32m      7\u001b[0m \u001b[39mfrom\u001b[39;00m \u001b[39m.\u001b[39;00m\u001b[39m.\u001b[39;00m\u001b[39m_cache\u001b[39;00m \u001b[39mimport\u001b[39;00m cache\n\u001b[1;32m----> 8\u001b[0m \u001b[39mfrom\u001b[39;00m \u001b[39m.\u001b[39;00m\u001b[39m.\u001b[39;00m\u001b[39mutil\u001b[39;00m\u001b[39m.\u001b[39;00m\u001b[39mexceptions\u001b[39;00m \u001b[39mimport\u001b[39;00m ParameterError\n\u001b[0;32m      9\u001b[0m \u001b[39mfrom\u001b[39;00m \u001b[39m.\u001b[39;00m\u001b[39m.\u001b[39;00m\u001b[39mutil\u001b[39;00m\u001b[39m.\u001b[39;00m\u001b[39mdecorators\u001b[39;00m \u001b[39mimport\u001b[39;00m deprecate_positional_args\n\u001b[0;32m     11\u001b[0m __all__ \u001b[39m=\u001b[39m [\n\u001b[0;32m     12\u001b[0m     \u001b[39m\"\u001b[39m\u001b[39mkey_to_degrees\u001b[39m\u001b[39m\"\u001b[39m,\n\u001b[0;32m     13\u001b[0m     \u001b[39m\"\u001b[39m\u001b[39mkey_to_notes\u001b[39m\u001b[39m\"\u001b[39m,\n\u001b[1;32m   (...)\u001b[0m\n\u001b[0;32m     18\u001b[0m     \u001b[39m\"\u001b[39m\u001b[39mlist_thaat\u001b[39m\u001b[39m\"\u001b[39m,\n\u001b[0;32m     19\u001b[0m ]\n",
      "File \u001b[1;32mc:\\Users\\Alex\\anaconda3\\lib\\site-packages\\librosa\\util\\__init__.py:77\u001b[0m\n\u001b[0;32m      1\u001b[0m \u001b[39m#!/usr/bin/env python\u001b[39;00m\n\u001b[0;32m      2\u001b[0m \u001b[39m# -*- coding: utf-8 -*-\u001b[39;00m\n\u001b[0;32m      3\u001b[0m \u001b[39m\"\"\"\u001b[39;00m\n\u001b[0;32m      4\u001b[0m \u001b[39mUtilities\u001b[39;00m\n\u001b[0;32m      5\u001b[0m \u001b[39m=========\u001b[39;00m\n\u001b[1;32m   (...)\u001b[0m\n\u001b[0;32m     74\u001b[0m \n\u001b[0;32m     75\u001b[0m \u001b[39m\"\"\"\u001b[39;00m\n\u001b[1;32m---> 77\u001b[0m \u001b[39mfrom\u001b[39;00m \u001b[39m.\u001b[39;00m\u001b[39mutils\u001b[39;00m \u001b[39mimport\u001b[39;00m \u001b[39m*\u001b[39m  \u001b[39m# pylint: disable=wildcard-import\u001b[39;00m\n\u001b[0;32m     78\u001b[0m \u001b[39mfrom\u001b[39;00m \u001b[39m.\u001b[39;00m\u001b[39mfiles\u001b[39;00m \u001b[39mimport\u001b[39;00m \u001b[39m*\u001b[39m  \u001b[39m# pylint: disable=wildcard-import\u001b[39;00m\n\u001b[0;32m     79\u001b[0m \u001b[39mfrom\u001b[39;00m \u001b[39m.\u001b[39;00m\u001b[39mmatching\u001b[39;00m \u001b[39mimport\u001b[39;00m \u001b[39m*\u001b[39m  \u001b[39m# pylint: disable=wildcard-import\u001b[39;00m\n",
      "File \u001b[1;32mc:\\Users\\Alex\\anaconda3\\lib\\site-packages\\librosa\\util\\utils.py:9\u001b[0m\n\u001b[0;32m      6\u001b[0m \u001b[39mimport\u001b[39;00m \u001b[39mscipy\u001b[39;00m\u001b[39m.\u001b[39;00m\u001b[39msparse\u001b[39;00m\n\u001b[0;32m      8\u001b[0m \u001b[39mimport\u001b[39;00m \u001b[39mnumpy\u001b[39;00m \u001b[39mas\u001b[39;00m \u001b[39mnp\u001b[39;00m\n\u001b[1;32m----> 9\u001b[0m \u001b[39mimport\u001b[39;00m \u001b[39mnumba\u001b[39;00m\n\u001b[0;32m     10\u001b[0m \u001b[39mfrom\u001b[39;00m \u001b[39mnumpy\u001b[39;00m\u001b[39m.\u001b[39;00m\u001b[39mlib\u001b[39;00m\u001b[39m.\u001b[39;00m\u001b[39mstride_tricks\u001b[39;00m \u001b[39mimport\u001b[39;00m as_strided\n\u001b[0;32m     12\u001b[0m \u001b[39mfrom\u001b[39;00m \u001b[39m.\u001b[39;00m\u001b[39m.\u001b[39;00m\u001b[39m_cache\u001b[39;00m \u001b[39mimport\u001b[39;00m cache\n",
      "File \u001b[1;32mc:\\Users\\Alex\\anaconda3\\lib\\site-packages\\numba\\__init__.py:200\u001b[0m\n\u001b[0;32m    197\u001b[0m     \u001b[39mreturn\u001b[39;00m \u001b[39mFalse\u001b[39;00m\n\u001b[0;32m    199\u001b[0m _ensure_llvm()\n\u001b[1;32m--> 200\u001b[0m _ensure_critical_deps()\n\u001b[0;32m    202\u001b[0m \u001b[39m# we know llvmlite is working as the above tests passed, import it now as SVML\u001b[39;00m\n\u001b[0;32m    203\u001b[0m \u001b[39m# needs to mutate runtime options (sets the `-vector-library`).\u001b[39;00m\n\u001b[0;32m    204\u001b[0m \u001b[39mimport\u001b[39;00m \u001b[39mllvmlite\u001b[39;00m\n",
      "File \u001b[1;32mc:\\Users\\Alex\\anaconda3\\lib\\site-packages\\numba\\__init__.py:140\u001b[0m, in \u001b[0;36m_ensure_critical_deps\u001b[1;34m()\u001b[0m\n\u001b[0;32m    138\u001b[0m     \u001b[39mraise\u001b[39;00m \u001b[39mImportError\u001b[39;00m(\u001b[39m\"\u001b[39m\u001b[39mNumba needs NumPy 1.18 or greater\u001b[39m\u001b[39m\"\u001b[39m)\n\u001b[0;32m    139\u001b[0m \u001b[39melif\u001b[39;00m numpy_version \u001b[39m>\u001b[39m (\u001b[39m1\u001b[39m, \u001b[39m21\u001b[39m):\n\u001b[1;32m--> 140\u001b[0m     \u001b[39mraise\u001b[39;00m \u001b[39mImportError\u001b[39;00m(\u001b[39m\"\u001b[39m\u001b[39mNumba needs NumPy 1.21 or less\u001b[39m\u001b[39m\"\u001b[39m)\n\u001b[0;32m    142\u001b[0m \u001b[39mtry\u001b[39;00m:\n\u001b[0;32m    143\u001b[0m     \u001b[39mimport\u001b[39;00m \u001b[39mscipy\u001b[39;00m\n",
      "\u001b[1;31mImportError\u001b[0m: Numba needs NumPy 1.21 or less"
     ]
    }
   ],
   "source": [
    "import librosa\n",
    "import librosa.display\n",
    "import matplotlib.pyplot as plt\n",
    "import numpy as np\n",
    "\n",
    "plt.rcParams ['figure.figsize'] = [10, 7]\n",
    "\n",
    "audio_path = \"./1.wav\"\n",
    "\n",
    "audio, sr = librosa.load(audio_path, sr=None)"
   ]
  },
  {
   "cell_type": "markdown",
   "metadata": {},
   "source": [
    "Визуализируем загруженный файл:"
   ]
  },
  {
   "cell_type": "code",
   "execution_count": null,
   "metadata": {},
   "outputs": [],
   "source": [
    "wave_plot_basic = librosa.display.waveshow(audio, sr=sr)\n",
    "plt.show()"
   ]
  },
  {
   "cell_type": "markdown",
   "metadata": {},
   "source": [
    "Для отрисовки спектрограммы проведем предобработку сигнала:"
   ]
  },
  {
   "cell_type": "code",
   "execution_count": null,
   "metadata": {},
   "outputs": [],
   "source": [
    "D = librosa.amplitude_to_db(np.abs(librosa.stft(audio)), ref=np.max)"
   ]
  },
  {
   "cell_type": "markdown",
   "metadata": {},
   "source": [
    "Спектрограмма:"
   ]
  },
  {
   "cell_type": "code",
   "execution_count": null,
   "metadata": {},
   "outputs": [],
   "source": [
    "spectrogram_basic = librosa.display.specshow(D, sr=sr, y_axis='linear', x_axis='time')"
   ]
  },
  {
   "cell_type": "markdown",
   "metadata": {},
   "source": [
    "mel-спектрограмма:"
   ]
  },
  {
   "cell_type": "code",
   "execution_count": null,
   "metadata": {},
   "outputs": [],
   "source": [
    "S = librosa.feature.melspectrogram(S=D, sr=sr)\n",
    "mel_plt_basic = librosa.display.specshow(S, sr=sr, y_axis='mel', x_axis='time')"
   ]
  },
  {
   "cell_type": "markdown",
   "metadata": {},
   "source": [
    "mfccs-спектрограмма:"
   ]
  },
  {
   "cell_type": "code",
   "execution_count": null,
   "metadata": {},
   "outputs": [],
   "source": [
    "mfccs = librosa.feature.mfcc(S=S, sr=sr)\n",
    "mfccs_plt_basic = librosa.display.specshow(mfccs, sr=sr, x_axis='time')"
   ]
  },
  {
   "cell_type": "markdown",
   "metadata": {},
   "source": [
    "Добавим к нашему файлу аугментацию:"
   ]
  },
  {
   "cell_type": "code",
   "execution_count": null,
   "metadata": {},
   "outputs": [],
   "source": [
    "from audiomentations import Compose, AddGaussianNoise, Gain\n",
    "\n",
    "augment = Compose([AddGaussianNoise(min_amplitude=0.001, max_amplitude=0.015, p=1.0),\n",
    "                   Gain(min_gain_in_db=-10, max_gain_in_db=20, p=0.33)])\n",
    "\n",
    "augmented_audio = augment(samples=audio, sample_rate=sr)\n"
   ]
  },
  {
   "cell_type": "markdown",
   "metadata": {},
   "source": [
    "Визуализируем полученный результат:"
   ]
  },
  {
   "cell_type": "code",
   "execution_count": null,
   "metadata": {},
   "outputs": [],
   "source": [
    "wave_plot_augmented = librosa.display.waveshow(augmented_audio, sr=sr)\n",
    "plt.show()"
   ]
  },
  {
   "cell_type": "code",
   "execution_count": null,
   "metadata": {},
   "outputs": [],
   "source": [
    "D_augmented = librosa.amplitude_to_db(np.abs(librosa.stft(augmented_audio)), ref=np.max)"
   ]
  },
  {
   "cell_type": "code",
   "execution_count": null,
   "metadata": {},
   "outputs": [],
   "source": [
    "spectrogram_augmented = librosa.display.specshow(D_augmented, sr=sr, y_axis='linear', x_axis='time')"
   ]
  },
  {
   "cell_type": "code",
   "execution_count": null,
   "metadata": {},
   "outputs": [],
   "source": [
    "S_augmented = librosa.feature.melspectrogram(S=D_augmented, sr=sr)\n",
    "mel_plt_augmented = librosa.display.specshow(S_augmented, sr=sr, y_axis='mel', x_axis='time')"
   ]
  },
  {
   "cell_type": "code",
   "execution_count": null,
   "metadata": {},
   "outputs": [],
   "source": [
    "mfccs_augmented = librosa.feature.mfcc(S=S_augmented, sr=sr)\n",
    "mfccs_plt_augmented = librosa.display.specshow(mfccs_augmented, sr=sr, x_axis='time')"
   ]
  },
  {
   "cell_type": "markdown",
   "metadata": {},
   "source": [
    "Наглядное сравнение спектрограмм файлов:"
   ]
  },
  {
   "cell_type": "code",
   "execution_count": null,
   "metadata": {},
   "outputs": [],
   "source": [
    "fig, ax = plt.subplots(ncols=2, figsize=(15,7))\n",
    "librosa.display.waveshow(audio, sr=sr, ax=ax[0])\n",
    "librosa.display.waveshow(augmented_audio, sr=sr, ax=ax[1])"
   ]
  },
  {
   "cell_type": "code",
   "execution_count": null,
   "metadata": {},
   "outputs": [],
   "source": [
    "fig, ax = plt.subplots(ncols=2, figsize=(15,7))\n",
    "librosa.display.specshow(D, sr=sr, y_axis='linear', x_axis='time', ax=ax[0])\n",
    "librosa.display.specshow(D_augmented, sr=sr, y_axis='linear', x_axis='time', ax=ax[1])"
   ]
  },
  {
   "cell_type": "code",
   "execution_count": null,
   "metadata": {},
   "outputs": [],
   "source": [
    "fig, ax = plt.subplots(ncols=2, figsize=(15,7))\n",
    "librosa.display.specshow(S, sr=sr, y_axis='mel', x_axis='time', ax=ax[0])\n",
    "librosa.display.specshow(S_augmented, sr=sr, y_axis='mel', x_axis='time', ax=ax[1])"
   ]
  },
  {
   "cell_type": "code",
   "execution_count": null,
   "metadata": {},
   "outputs": [],
   "source": [
    "fig, ax = plt.subplots(ncols=2, figsize=(15,7))\n",
    "librosa.display.specshow(mfccs, sr=sr, x_axis='time', ax=ax[0])\n",
    "librosa.display.specshow(mfccs_augmented, sr=sr, x_axis='time', ax=ax[1])"
   ]
  },
  {
   "cell_type": "markdown",
   "metadata": {},
   "source": [
    "Распознавание речи на базе NeMo:"
   ]
  },
  {
   "cell_type": "code",
   "execution_count": null,
   "metadata": {},
   "outputs": [],
   "source": [
    "import nemo.collections.asr as nemo_asr\n",
    "model = nemo_asr.models.ASRModel.from_pretrained(model_name=\"QuartzNet15x5Base-En\")\n"
   ]
  }
 ],
 "metadata": {
  "kernelspec": {
   "display_name": "Python 3.9.13 ('base')",
   "language": "python",
   "name": "python3"
  },
  "language_info": {
   "codemirror_mode": {
    "name": "ipython",
    "version": 3
   },
   "file_extension": ".py",
   "mimetype": "text/x-python",
   "name": "python",
   "nbconvert_exporter": "python",
   "pygments_lexer": "ipython3",
   "version": "3.9.13"
  },
  "orig_nbformat": 4,
  "vscode": {
   "interpreter": {
    "hash": "6bcd08b9d07a1bbf1ca3d2e85cf520478653b674492b433d59be3f14d722c959"
   }
  }
 },
 "nbformat": 4,
 "nbformat_minor": 2
}
